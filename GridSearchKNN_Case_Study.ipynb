{
  "nbformat": 4,
  "nbformat_minor": 0,
  "metadata": {
    "kernelspec": {
      "display_name": "Python 3",
      "language": "python",
      "name": "python3"
    },
    "language_info": {
      "codemirror_mode": {
        "name": "ipython",
        "version": 3
      },
      "file_extension": ".py",
      "mimetype": "text/x-python",
      "name": "python",
      "nbconvert_exporter": "python",
      "pygments_lexer": "ipython3",
      "version": "3.7.4"
    },
    "colab": {
      "name": "GridSearchKNN_Case_Study.ipynb",
      "provenance": [],
      "collapsed_sections": [],
      "include_colab_link": true
    }
  },
  "cells": [
    {
      "cell_type": "markdown",
      "metadata": {
        "id": "view-in-github",
        "colab_type": "text"
      },
      "source": [
        "<a href=\"https://colab.research.google.com/github/allen44/grid-search-knn/blob/main/GridSearchKNN_Case_Study.ipynb\" target=\"_parent\"><img src=\"https://colab.research.google.com/assets/colab-badge.svg\" alt=\"Open In Colab\"/></a>"
      ]
    },
    {
      "cell_type": "markdown",
      "metadata": {
        "id": "I0s-XQND73lw"
      },
      "source": [
        "## Grid Search Hyperparameter optimization"
      ]
    },
    {
      "cell_type": "markdown",
      "metadata": {
        "id": "NfSGEbH673mQ"
      },
      "source": [
        "This case study is all about using grid searches to identify the optimal parameters for a machine learning algorithm. To complere this case study, you'll use the Pima Indian diabetes dataset from Kaggle and KNN. Follow along with the preprocessing steps of this case study."
      ]
    },
    {
      "cell_type": "markdown",
      "metadata": {
        "tags": [],
        "id": "06tt-tDu73mT"
      },
      "source": [
        "Load the necessary packages"
      ]
    },
    {
      "cell_type": "code",
      "metadata": {
        "colab": {
          "base_uri": "https://localhost:8080/",
          "height": 205
        },
        "id": "z1quIC9VNZ92",
        "outputId": "bc39b8df-44b2-4934-8965-0e2dca06adc9"
      },
      "source": [
        "#Install latest sklearn\n",
        "!pip uninstall scikit-learn -y\n",
        "!pip install -U scikit-learn\n",
        "\n",
        "import sklearn\n",
        "sklearn.__version__\n"
      ],
      "execution_count": null,
      "outputs": [
        {
          "output_type": "stream",
          "text": [
            "Uninstalling scikit-learn-0.24.1:\n",
            "  Successfully uninstalled scikit-learn-0.24.1\n",
            "Collecting scikit-learn\n",
            "  Using cached https://files.pythonhosted.org/packages/f3/74/eb899f41d55f957e2591cde5528e75871f817d9fb46d4732423ecaca736d/scikit_learn-0.24.1-cp37-cp37m-manylinux2010_x86_64.whl\n",
            "Requirement already satisfied, skipping upgrade: scipy>=0.19.1 in /usr/local/lib/python3.7/dist-packages (from scikit-learn) (1.4.1)\n",
            "Requirement already satisfied, skipping upgrade: numpy>=1.13.3 in /usr/local/lib/python3.7/dist-packages (from scikit-learn) (1.19.5)\n",
            "Requirement already satisfied, skipping upgrade: joblib>=0.11 in /usr/local/lib/python3.7/dist-packages (from scikit-learn) (1.0.1)\n",
            "Requirement already satisfied, skipping upgrade: threadpoolctl>=2.0.0 in /usr/local/lib/python3.7/dist-packages (from scikit-learn) (2.1.0)\n",
            "Installing collected packages: scikit-learn\n",
            "Successfully installed scikit-learn-0.24.1\n"
          ],
          "name": "stdout"
        },
        {
          "output_type": "execute_result",
          "data": {
            "application/vnd.google.colaboratory.intrinsic+json": {
              "type": "string"
            },
            "text/plain": [
              "'0.24.1'"
            ]
          },
          "metadata": {
            "tags": []
          },
          "execution_count": 1
        }
      ]
    },
    {
      "cell_type": "code",
      "metadata": {
        "id": "o8Va8FMp73mU"
      },
      "source": [
        "import numpy as np\n",
        "import pandas as pd\n",
        "import matplotlib.pyplot as plt\n",
        "import seaborn as sns\n",
        "sns.set()\n",
        "\n",
        "# set random seed to try make this exercise and solutions reproducible (NB: this is just for teaching purpose and not something you would do in real life)\n",
        "random_seed_number = 42\n",
        "np.random.seed(random_seed_number)"
      ],
      "execution_count": null,
      "outputs": []
    },
    {
      "cell_type": "markdown",
      "metadata": {
        "tags": [],
        "id": "bX-FlRn473mW"
      },
      "source": [
        "#### Load the diabetes data"
      ]
    },
    {
      "cell_type": "code",
      "metadata": {
        "id": "CmRkREiS73mW",
        "colab": {
          "base_uri": "https://localhost:8080/",
          "height": 204
        },
        "outputId": "5f140352-20a4-4ba8-9077-b4e404c6f37f"
      },
      "source": [
        "diabetes_data = pd.read_csv('https://raw.githubusercontent.com/allen44/grid-search-knn/main/data/diabetes.csv')\n",
        "diabetes_data.head()"
      ],
      "execution_count": null,
      "outputs": [
        {
          "output_type": "execute_result",
          "data": {
            "text/html": [
              "<div>\n",
              "<style scoped>\n",
              "    .dataframe tbody tr th:only-of-type {\n",
              "        vertical-align: middle;\n",
              "    }\n",
              "\n",
              "    .dataframe tbody tr th {\n",
              "        vertical-align: top;\n",
              "    }\n",
              "\n",
              "    .dataframe thead th {\n",
              "        text-align: right;\n",
              "    }\n",
              "</style>\n",
              "<table border=\"1\" class=\"dataframe\">\n",
              "  <thead>\n",
              "    <tr style=\"text-align: right;\">\n",
              "      <th></th>\n",
              "      <th>Pregnancies</th>\n",
              "      <th>Glucose</th>\n",
              "      <th>BloodPressure</th>\n",
              "      <th>SkinThickness</th>\n",
              "      <th>Insulin</th>\n",
              "      <th>BMI</th>\n",
              "      <th>DiabetesPedigreeFunction</th>\n",
              "      <th>Age</th>\n",
              "      <th>Outcome</th>\n",
              "    </tr>\n",
              "  </thead>\n",
              "  <tbody>\n",
              "    <tr>\n",
              "      <th>0</th>\n",
              "      <td>6</td>\n",
              "      <td>148</td>\n",
              "      <td>72</td>\n",
              "      <td>35</td>\n",
              "      <td>0</td>\n",
              "      <td>33.6</td>\n",
              "      <td>0.627</td>\n",
              "      <td>50</td>\n",
              "      <td>1</td>\n",
              "    </tr>\n",
              "    <tr>\n",
              "      <th>1</th>\n",
              "      <td>1</td>\n",
              "      <td>85</td>\n",
              "      <td>66</td>\n",
              "      <td>29</td>\n",
              "      <td>0</td>\n",
              "      <td>26.6</td>\n",
              "      <td>0.351</td>\n",
              "      <td>31</td>\n",
              "      <td>0</td>\n",
              "    </tr>\n",
              "    <tr>\n",
              "      <th>2</th>\n",
              "      <td>8</td>\n",
              "      <td>183</td>\n",
              "      <td>64</td>\n",
              "      <td>0</td>\n",
              "      <td>0</td>\n",
              "      <td>23.3</td>\n",
              "      <td>0.672</td>\n",
              "      <td>32</td>\n",
              "      <td>1</td>\n",
              "    </tr>\n",
              "    <tr>\n",
              "      <th>3</th>\n",
              "      <td>1</td>\n",
              "      <td>89</td>\n",
              "      <td>66</td>\n",
              "      <td>23</td>\n",
              "      <td>94</td>\n",
              "      <td>28.1</td>\n",
              "      <td>0.167</td>\n",
              "      <td>21</td>\n",
              "      <td>0</td>\n",
              "    </tr>\n",
              "    <tr>\n",
              "      <th>4</th>\n",
              "      <td>0</td>\n",
              "      <td>137</td>\n",
              "      <td>40</td>\n",
              "      <td>35</td>\n",
              "      <td>168</td>\n",
              "      <td>43.1</td>\n",
              "      <td>2.288</td>\n",
              "      <td>33</td>\n",
              "      <td>1</td>\n",
              "    </tr>\n",
              "  </tbody>\n",
              "</table>\n",
              "</div>"
            ],
            "text/plain": [
              "   Pregnancies  Glucose  BloodPressure  ...  DiabetesPedigreeFunction  Age  Outcome\n",
              "0            6      148             72  ...                     0.627   50        1\n",
              "1            1       85             66  ...                     0.351   31        0\n",
              "2            8      183             64  ...                     0.672   32        1\n",
              "3            1       89             66  ...                     0.167   21        0\n",
              "4            0      137             40  ...                     2.288   33        1\n",
              "\n",
              "[5 rows x 9 columns]"
            ]
          },
          "metadata": {
            "tags": []
          },
          "execution_count": 3
        }
      ]
    },
    {
      "cell_type": "markdown",
      "metadata": {
        "tags": [],
        "id": "tc3eRUXx73ma"
      },
      "source": [
        "**<font color='teal'> Start by reviewing the data info.</font>**"
      ]
    },
    {
      "cell_type": "code",
      "metadata": {
        "id": "wV_lWX8x73mb",
        "colab": {
          "base_uri": "https://localhost:8080/"
        },
        "outputId": "8dc70672-2ec4-47d0-9de0-17ff9313f364"
      },
      "source": [
        "diabetes_data.info()"
      ],
      "execution_count": null,
      "outputs": [
        {
          "output_type": "stream",
          "text": [
            "<class 'pandas.core.frame.DataFrame'>\n",
            "RangeIndex: 768 entries, 0 to 767\n",
            "Data columns (total 9 columns):\n",
            " #   Column                    Non-Null Count  Dtype  \n",
            "---  ------                    --------------  -----  \n",
            " 0   Pregnancies               768 non-null    int64  \n",
            " 1   Glucose                   768 non-null    int64  \n",
            " 2   BloodPressure             768 non-null    int64  \n",
            " 3   SkinThickness             768 non-null    int64  \n",
            " 4   Insulin                   768 non-null    int64  \n",
            " 5   BMI                       768 non-null    float64\n",
            " 6   DiabetesPedigreeFunction  768 non-null    float64\n",
            " 7   Age                       768 non-null    int64  \n",
            " 8   Outcome                   768 non-null    int64  \n",
            "dtypes: float64(2), int64(7)\n",
            "memory usage: 54.1 KB\n"
          ],
          "name": "stdout"
        }
      ]
    },
    {
      "cell_type": "markdown",
      "metadata": {
        "tags": [],
        "id": "4xN5nBKq73mb"
      },
      "source": [
        "**<font color='teal'> Apply the describe function to the data.</font>**"
      ]
    },
    {
      "cell_type": "code",
      "metadata": {
        "id": "r98WlNg973mc",
        "colab": {
          "base_uri": "https://localhost:8080/",
          "height": 297
        },
        "outputId": "dd18a668-6bfc-41b4-f652-3e42e5b9ca8f"
      },
      "source": [
        "diabetes_data.describe()"
      ],
      "execution_count": null,
      "outputs": [
        {
          "output_type": "execute_result",
          "data": {
            "text/html": [
              "<div>\n",
              "<style scoped>\n",
              "    .dataframe tbody tr th:only-of-type {\n",
              "        vertical-align: middle;\n",
              "    }\n",
              "\n",
              "    .dataframe tbody tr th {\n",
              "        vertical-align: top;\n",
              "    }\n",
              "\n",
              "    .dataframe thead th {\n",
              "        text-align: right;\n",
              "    }\n",
              "</style>\n",
              "<table border=\"1\" class=\"dataframe\">\n",
              "  <thead>\n",
              "    <tr style=\"text-align: right;\">\n",
              "      <th></th>\n",
              "      <th>Pregnancies</th>\n",
              "      <th>Glucose</th>\n",
              "      <th>BloodPressure</th>\n",
              "      <th>SkinThickness</th>\n",
              "      <th>Insulin</th>\n",
              "      <th>BMI</th>\n",
              "      <th>DiabetesPedigreeFunction</th>\n",
              "      <th>Age</th>\n",
              "      <th>Outcome</th>\n",
              "    </tr>\n",
              "  </thead>\n",
              "  <tbody>\n",
              "    <tr>\n",
              "      <th>count</th>\n",
              "      <td>768.000000</td>\n",
              "      <td>768.000000</td>\n",
              "      <td>768.000000</td>\n",
              "      <td>768.000000</td>\n",
              "      <td>768.000000</td>\n",
              "      <td>768.000000</td>\n",
              "      <td>768.000000</td>\n",
              "      <td>768.000000</td>\n",
              "      <td>768.000000</td>\n",
              "    </tr>\n",
              "    <tr>\n",
              "      <th>mean</th>\n",
              "      <td>3.845052</td>\n",
              "      <td>120.894531</td>\n",
              "      <td>69.105469</td>\n",
              "      <td>20.536458</td>\n",
              "      <td>79.799479</td>\n",
              "      <td>31.992578</td>\n",
              "      <td>0.471876</td>\n",
              "      <td>33.240885</td>\n",
              "      <td>0.348958</td>\n",
              "    </tr>\n",
              "    <tr>\n",
              "      <th>std</th>\n",
              "      <td>3.369578</td>\n",
              "      <td>31.972618</td>\n",
              "      <td>19.355807</td>\n",
              "      <td>15.952218</td>\n",
              "      <td>115.244002</td>\n",
              "      <td>7.884160</td>\n",
              "      <td>0.331329</td>\n",
              "      <td>11.760232</td>\n",
              "      <td>0.476951</td>\n",
              "    </tr>\n",
              "    <tr>\n",
              "      <th>min</th>\n",
              "      <td>0.000000</td>\n",
              "      <td>0.000000</td>\n",
              "      <td>0.000000</td>\n",
              "      <td>0.000000</td>\n",
              "      <td>0.000000</td>\n",
              "      <td>0.000000</td>\n",
              "      <td>0.078000</td>\n",
              "      <td>21.000000</td>\n",
              "      <td>0.000000</td>\n",
              "    </tr>\n",
              "    <tr>\n",
              "      <th>25%</th>\n",
              "      <td>1.000000</td>\n",
              "      <td>99.000000</td>\n",
              "      <td>62.000000</td>\n",
              "      <td>0.000000</td>\n",
              "      <td>0.000000</td>\n",
              "      <td>27.300000</td>\n",
              "      <td>0.243750</td>\n",
              "      <td>24.000000</td>\n",
              "      <td>0.000000</td>\n",
              "    </tr>\n",
              "    <tr>\n",
              "      <th>50%</th>\n",
              "      <td>3.000000</td>\n",
              "      <td>117.000000</td>\n",
              "      <td>72.000000</td>\n",
              "      <td>23.000000</td>\n",
              "      <td>30.500000</td>\n",
              "      <td>32.000000</td>\n",
              "      <td>0.372500</td>\n",
              "      <td>29.000000</td>\n",
              "      <td>0.000000</td>\n",
              "    </tr>\n",
              "    <tr>\n",
              "      <th>75%</th>\n",
              "      <td>6.000000</td>\n",
              "      <td>140.250000</td>\n",
              "      <td>80.000000</td>\n",
              "      <td>32.000000</td>\n",
              "      <td>127.250000</td>\n",
              "      <td>36.600000</td>\n",
              "      <td>0.626250</td>\n",
              "      <td>41.000000</td>\n",
              "      <td>1.000000</td>\n",
              "    </tr>\n",
              "    <tr>\n",
              "      <th>max</th>\n",
              "      <td>17.000000</td>\n",
              "      <td>199.000000</td>\n",
              "      <td>122.000000</td>\n",
              "      <td>99.000000</td>\n",
              "      <td>846.000000</td>\n",
              "      <td>67.100000</td>\n",
              "      <td>2.420000</td>\n",
              "      <td>81.000000</td>\n",
              "      <td>1.000000</td>\n",
              "    </tr>\n",
              "  </tbody>\n",
              "</table>\n",
              "</div>"
            ],
            "text/plain": [
              "       Pregnancies     Glucose  ...         Age     Outcome\n",
              "count   768.000000  768.000000  ...  768.000000  768.000000\n",
              "mean      3.845052  120.894531  ...   33.240885    0.348958\n",
              "std       3.369578   31.972618  ...   11.760232    0.476951\n",
              "min       0.000000    0.000000  ...   21.000000    0.000000\n",
              "25%       1.000000   99.000000  ...   24.000000    0.000000\n",
              "50%       3.000000  117.000000  ...   29.000000    0.000000\n",
              "75%       6.000000  140.250000  ...   41.000000    1.000000\n",
              "max      17.000000  199.000000  ...   81.000000    1.000000\n",
              "\n",
              "[8 rows x 9 columns]"
            ]
          },
          "metadata": {
            "tags": []
          },
          "execution_count": 5
        }
      ]
    },
    {
      "cell_type": "markdown",
      "metadata": {
        "tags": [],
        "id": "bFKRbdQ273mc"
      },
      "source": [
        "**<font color='teal'> Currently, the missing values in the dataset are represented as zeros. Replace the zero values in the following columns ['Glucose','BloodPressure','SkinThickness','Insulin','BMI'] with nan .</font>**"
      ]
    },
    {
      "cell_type": "code",
      "metadata": {
        "id": "XaK7VEKU73mc",
        "colab": {
          "base_uri": "https://localhost:8080/",
          "height": 419
        },
        "outputId": "e9273bb4-cd97-41d0-f0e5-d9b1e88ba038"
      },
      "source": [
        "diabetes_data.loc[:,['Glucose','BloodPressure','SkinThickness','Insulin','BMI']]"
      ],
      "execution_count": null,
      "outputs": [
        {
          "output_type": "execute_result",
          "data": {
            "text/html": [
              "<div>\n",
              "<style scoped>\n",
              "    .dataframe tbody tr th:only-of-type {\n",
              "        vertical-align: middle;\n",
              "    }\n",
              "\n",
              "    .dataframe tbody tr th {\n",
              "        vertical-align: top;\n",
              "    }\n",
              "\n",
              "    .dataframe thead th {\n",
              "        text-align: right;\n",
              "    }\n",
              "</style>\n",
              "<table border=\"1\" class=\"dataframe\">\n",
              "  <thead>\n",
              "    <tr style=\"text-align: right;\">\n",
              "      <th></th>\n",
              "      <th>Glucose</th>\n",
              "      <th>BloodPressure</th>\n",
              "      <th>SkinThickness</th>\n",
              "      <th>Insulin</th>\n",
              "      <th>BMI</th>\n",
              "    </tr>\n",
              "  </thead>\n",
              "  <tbody>\n",
              "    <tr>\n",
              "      <th>0</th>\n",
              "      <td>148</td>\n",
              "      <td>72</td>\n",
              "      <td>35</td>\n",
              "      <td>0</td>\n",
              "      <td>33.6</td>\n",
              "    </tr>\n",
              "    <tr>\n",
              "      <th>1</th>\n",
              "      <td>85</td>\n",
              "      <td>66</td>\n",
              "      <td>29</td>\n",
              "      <td>0</td>\n",
              "      <td>26.6</td>\n",
              "    </tr>\n",
              "    <tr>\n",
              "      <th>2</th>\n",
              "      <td>183</td>\n",
              "      <td>64</td>\n",
              "      <td>0</td>\n",
              "      <td>0</td>\n",
              "      <td>23.3</td>\n",
              "    </tr>\n",
              "    <tr>\n",
              "      <th>3</th>\n",
              "      <td>89</td>\n",
              "      <td>66</td>\n",
              "      <td>23</td>\n",
              "      <td>94</td>\n",
              "      <td>28.1</td>\n",
              "    </tr>\n",
              "    <tr>\n",
              "      <th>4</th>\n",
              "      <td>137</td>\n",
              "      <td>40</td>\n",
              "      <td>35</td>\n",
              "      <td>168</td>\n",
              "      <td>43.1</td>\n",
              "    </tr>\n",
              "    <tr>\n",
              "      <th>...</th>\n",
              "      <td>...</td>\n",
              "      <td>...</td>\n",
              "      <td>...</td>\n",
              "      <td>...</td>\n",
              "      <td>...</td>\n",
              "    </tr>\n",
              "    <tr>\n",
              "      <th>763</th>\n",
              "      <td>101</td>\n",
              "      <td>76</td>\n",
              "      <td>48</td>\n",
              "      <td>180</td>\n",
              "      <td>32.9</td>\n",
              "    </tr>\n",
              "    <tr>\n",
              "      <th>764</th>\n",
              "      <td>122</td>\n",
              "      <td>70</td>\n",
              "      <td>27</td>\n",
              "      <td>0</td>\n",
              "      <td>36.8</td>\n",
              "    </tr>\n",
              "    <tr>\n",
              "      <th>765</th>\n",
              "      <td>121</td>\n",
              "      <td>72</td>\n",
              "      <td>23</td>\n",
              "      <td>112</td>\n",
              "      <td>26.2</td>\n",
              "    </tr>\n",
              "    <tr>\n",
              "      <th>766</th>\n",
              "      <td>126</td>\n",
              "      <td>60</td>\n",
              "      <td>0</td>\n",
              "      <td>0</td>\n",
              "      <td>30.1</td>\n",
              "    </tr>\n",
              "    <tr>\n",
              "      <th>767</th>\n",
              "      <td>93</td>\n",
              "      <td>70</td>\n",
              "      <td>31</td>\n",
              "      <td>0</td>\n",
              "      <td>30.4</td>\n",
              "    </tr>\n",
              "  </tbody>\n",
              "</table>\n",
              "<p>768 rows × 5 columns</p>\n",
              "</div>"
            ],
            "text/plain": [
              "     Glucose  BloodPressure  SkinThickness  Insulin   BMI\n",
              "0        148             72             35        0  33.6\n",
              "1         85             66             29        0  26.6\n",
              "2        183             64              0        0  23.3\n",
              "3         89             66             23       94  28.1\n",
              "4        137             40             35      168  43.1\n",
              "..       ...            ...            ...      ...   ...\n",
              "763      101             76             48      180  32.9\n",
              "764      122             70             27        0  36.8\n",
              "765      121             72             23      112  26.2\n",
              "766      126             60              0        0  30.1\n",
              "767       93             70             31        0  30.4\n",
              "\n",
              "[768 rows x 5 columns]"
            ]
          },
          "metadata": {
            "tags": []
          },
          "execution_count": 6
        }
      ]
    },
    {
      "cell_type": "code",
      "metadata": {
        "id": "oDq-IdHlDtKR"
      },
      "source": [
        "diabetes_data.loc[:,['Glucose','BloodPressure','SkinThickness','Insulin','BMI']] =  diabetes_data.loc[:,['Glucose','BloodPressure','SkinThickness','Insulin','BMI']].replace(0, pd.NA)"
      ],
      "execution_count": null,
      "outputs": []
    },
    {
      "cell_type": "code",
      "metadata": {
        "colab": {
          "base_uri": "https://localhost:8080/",
          "height": 419
        },
        "id": "xSESrHynDyXR",
        "outputId": "640a9303-c692-4d64-b385-190e92a154b5"
      },
      "source": [
        "diabetes_data.loc[:,['Glucose','BloodPressure','SkinThickness','Insulin','BMI']]"
      ],
      "execution_count": null,
      "outputs": [
        {
          "output_type": "execute_result",
          "data": {
            "text/html": [
              "<div>\n",
              "<style scoped>\n",
              "    .dataframe tbody tr th:only-of-type {\n",
              "        vertical-align: middle;\n",
              "    }\n",
              "\n",
              "    .dataframe tbody tr th {\n",
              "        vertical-align: top;\n",
              "    }\n",
              "\n",
              "    .dataframe thead th {\n",
              "        text-align: right;\n",
              "    }\n",
              "</style>\n",
              "<table border=\"1\" class=\"dataframe\">\n",
              "  <thead>\n",
              "    <tr style=\"text-align: right;\">\n",
              "      <th></th>\n",
              "      <th>Glucose</th>\n",
              "      <th>BloodPressure</th>\n",
              "      <th>SkinThickness</th>\n",
              "      <th>Insulin</th>\n",
              "      <th>BMI</th>\n",
              "    </tr>\n",
              "  </thead>\n",
              "  <tbody>\n",
              "    <tr>\n",
              "      <th>0</th>\n",
              "      <td>148.0</td>\n",
              "      <td>72.0</td>\n",
              "      <td>35.0</td>\n",
              "      <td>NaN</td>\n",
              "      <td>33.6</td>\n",
              "    </tr>\n",
              "    <tr>\n",
              "      <th>1</th>\n",
              "      <td>85.0</td>\n",
              "      <td>66.0</td>\n",
              "      <td>29.0</td>\n",
              "      <td>NaN</td>\n",
              "      <td>26.6</td>\n",
              "    </tr>\n",
              "    <tr>\n",
              "      <th>2</th>\n",
              "      <td>183.0</td>\n",
              "      <td>64.0</td>\n",
              "      <td>NaN</td>\n",
              "      <td>NaN</td>\n",
              "      <td>23.3</td>\n",
              "    </tr>\n",
              "    <tr>\n",
              "      <th>3</th>\n",
              "      <td>89.0</td>\n",
              "      <td>66.0</td>\n",
              "      <td>23.0</td>\n",
              "      <td>94.0</td>\n",
              "      <td>28.1</td>\n",
              "    </tr>\n",
              "    <tr>\n",
              "      <th>4</th>\n",
              "      <td>137.0</td>\n",
              "      <td>40.0</td>\n",
              "      <td>35.0</td>\n",
              "      <td>168.0</td>\n",
              "      <td>43.1</td>\n",
              "    </tr>\n",
              "    <tr>\n",
              "      <th>...</th>\n",
              "      <td>...</td>\n",
              "      <td>...</td>\n",
              "      <td>...</td>\n",
              "      <td>...</td>\n",
              "      <td>...</td>\n",
              "    </tr>\n",
              "    <tr>\n",
              "      <th>763</th>\n",
              "      <td>101.0</td>\n",
              "      <td>76.0</td>\n",
              "      <td>48.0</td>\n",
              "      <td>180.0</td>\n",
              "      <td>32.9</td>\n",
              "    </tr>\n",
              "    <tr>\n",
              "      <th>764</th>\n",
              "      <td>122.0</td>\n",
              "      <td>70.0</td>\n",
              "      <td>27.0</td>\n",
              "      <td>NaN</td>\n",
              "      <td>36.8</td>\n",
              "    </tr>\n",
              "    <tr>\n",
              "      <th>765</th>\n",
              "      <td>121.0</td>\n",
              "      <td>72.0</td>\n",
              "      <td>23.0</td>\n",
              "      <td>112.0</td>\n",
              "      <td>26.2</td>\n",
              "    </tr>\n",
              "    <tr>\n",
              "      <th>766</th>\n",
              "      <td>126.0</td>\n",
              "      <td>60.0</td>\n",
              "      <td>NaN</td>\n",
              "      <td>NaN</td>\n",
              "      <td>30.1</td>\n",
              "    </tr>\n",
              "    <tr>\n",
              "      <th>767</th>\n",
              "      <td>93.0</td>\n",
              "      <td>70.0</td>\n",
              "      <td>31.0</td>\n",
              "      <td>NaN</td>\n",
              "      <td>30.4</td>\n",
              "    </tr>\n",
              "  </tbody>\n",
              "</table>\n",
              "<p>768 rows × 5 columns</p>\n",
              "</div>"
            ],
            "text/plain": [
              "     Glucose  BloodPressure  SkinThickness  Insulin   BMI\n",
              "0      148.0           72.0           35.0      NaN  33.6\n",
              "1       85.0           66.0           29.0      NaN  26.6\n",
              "2      183.0           64.0            NaN      NaN  23.3\n",
              "3       89.0           66.0           23.0     94.0  28.1\n",
              "4      137.0           40.0           35.0    168.0  43.1\n",
              "..       ...            ...            ...      ...   ...\n",
              "763    101.0           76.0           48.0    180.0  32.9\n",
              "764    122.0           70.0           27.0      NaN  36.8\n",
              "765    121.0           72.0           23.0    112.0  26.2\n",
              "766    126.0           60.0            NaN      NaN  30.1\n",
              "767     93.0           70.0           31.0      NaN  30.4\n",
              "\n",
              "[768 rows x 5 columns]"
            ]
          },
          "metadata": {
            "tags": []
          },
          "execution_count": 8
        }
      ]
    },
    {
      "cell_type": "markdown",
      "metadata": {
        "tags": [],
        "id": "V8ZbQz6B73md"
      },
      "source": [
        "**<font color='teal'> Plot histograms of each column. </font>**"
      ]
    },
    {
      "cell_type": "code",
      "metadata": {
        "colab": {
          "base_uri": "https://localhost:8080/",
          "height": 610
        },
        "id": "mvzvLpH0EOmG",
        "outputId": "287ee22e-8dee-4e4a-d3ee-f2c4b15eb778"
      },
      "source": [
        "diabetes_data.hist(figsize=(10,10));"
      ],
      "execution_count": null,
      "outputs": [
        {
          "output_type": "display_data",
          "data": {
            "image/png": "[encoded data removed]",
            "text/plain": [
              "<Figure size 720x720 with 9 Axes>"
            ]
          },
          "metadata": {
            "tags": []
          }
        }
      ]
    },
    {
      "cell_type": "markdown",
      "metadata": {
        "tags": [],
        "id": "WiK6E-OJ73md"
      },
      "source": [
        "#### Replace the zeros with mean and median values."
      ]
    },
    {
      "cell_type": "code",
      "metadata": {
        "id": "uxN9ba_673md"
      },
      "source": [
        "diabetes_data['Glucose'].fillna(diabetes_data['Glucose'].mean(), inplace = True)\n",
        "diabetes_data['BloodPressure'].fillna(diabetes_data['BloodPressure'].mean(), inplace = True)\n",
        "diabetes_data['SkinThickness'].fillna(diabetes_data['SkinThickness'].median(), inplace = True)\n",
        "diabetes_data['Insulin'].fillna(diabetes_data['Insulin'].median(), inplace = True)\n",
        "diabetes_data['BMI'].fillna(diabetes_data['BMI'].median(), inplace = True)"
      ],
      "execution_count": null,
      "outputs": []
    },
    {
      "cell_type": "markdown",
      "metadata": {
        "tags": [],
        "id": "85479P1A73me"
      },
      "source": [
        "**<font color='teal'> Plot histograms of each column after replacing nan. </font>**"
      ]
    },
    {
      "cell_type": "code",
      "metadata": {
        "id": "EPdyhxR073me",
        "colab": {
          "base_uri": "https://localhost:8080/",
          "height": 610
        },
        "outputId": "d8cfabc7-116f-46f5-82c1-551f59ba6790"
      },
      "source": [
        "diabetes_data.hist(figsize=(10,10));"
      ],
      "execution_count": null,
      "outputs": [
        {
          "output_type": "display_data",
          "data": {
            "image/png": "[encoded data removed]",
            "text/plain": [
              "<Figure size 720x720 with 9 Axes>"
            ]
          },
          "metadata": {
            "tags": []
          }
        }
      ]
    },
    {
      "cell_type": "markdown",
      "metadata": {
        "tags": [],
        "id": "_eBSbo_w73me"
      },
      "source": [
        "#### Plot the correlation matrix heatmap"
      ]
    },
    {
      "cell_type": "code",
      "metadata": {
        "id": "5rdexbJe73mf",
        "colab": {
          "base_uri": "https://localhost:8080/",
          "height": 750
        },
        "outputId": "54ca3e68-64b6-4737-9418-1bde4eab8b89"
      },
      "source": [
        "plt.figure(figsize=(12,10))\n",
        "print('Correlation between various features')\n",
        "p=sns.heatmap(diabetes_data.corr(), annot=True,cmap ='Blues')"
      ],
      "execution_count": null,
      "outputs": [
        {
          "output_type": "stream",
          "text": [
            "Correlation between various features\n"
          ],
          "name": "stdout"
        },
        {
          "output_type": "display_data",
          "data": {
            "image/png": "[encoded data removed]",
            "text/plain": [
              "<Figure size 864x720 with 2 Axes>"
            ]
          },
          "metadata": {
            "tags": []
          }
        }
      ]
    },
    {
      "cell_type": "markdown",
      "metadata": {
        "tags": [],
        "id": "9xeXKsW373mf"
      },
      "source": [
        "**<font color='teal'> Define the `y` variable as the `Outcome` column.</font>**"
      ]
    },
    {
      "cell_type": "code",
      "metadata": {
        "id": "O1CRCxj773mg"
      },
      "source": [
        "y = diabetes_data['Outcome']"
      ],
      "execution_count": null,
      "outputs": []
    },
    {
      "cell_type": "markdown",
      "metadata": {
        "tags": [],
        "id": "tRlMKwV573mg"
      },
      "source": [
        "**<font color='teal'> Create a 70/30 train and test split. </font>**"
      ]
    },
    {
      "cell_type": "code",
      "metadata": {
        "id": "yaPO_PW773mg",
        "colab": {
          "base_uri": "https://localhost:8080/"
        },
        "outputId": "a06e9b05-4fc5-4f2e-cd70-736613230def"
      },
      "source": [
        "from sklearn.model_selection import train_test_split\n",
        "\n",
        "X = diabetes_data.drop(columns='Outcome')\n",
        "X_train, X_test,  y_train, y_test = train_test_split(X, y, test_size=0.30)\n",
        "X_train.shape, X_test.shape,  y_train.shape, y_test.shape"
      ],
      "execution_count": null,
      "outputs": [
        {
          "output_type": "execute_result",
          "data": {
            "text/plain": [
              "((537, 8), (231, 8), (537,), (231,))"
            ]
          },
          "metadata": {
            "tags": []
          },
          "execution_count": 14
        }
      ]
    },
    {
      "cell_type": "markdown",
      "metadata": {
        "tags": [],
        "id": "vO5ceu9Z73mg"
      },
      "source": [
        "**<font color='teal'> Using Sklearn, standarize the magnitude of the features by scaling the values. </font>**"
      ]
    },
    {
      "cell_type": "markdown",
      "metadata": {
        "id": "WoZ7QcvH73mh"
      },
      "source": [
        "Note: Don't forget to fit() your scaler on X_train and then use that fitted scaler to transform() X_test. This is to avoid data leakage while you standardize your data."
      ]
    },
    {
      "cell_type": "code",
      "metadata": {
        "id": "kqsS8riV73mh"
      },
      "source": [
        "from sklearn.preprocessing import StandardScaler\n",
        "\n",
        "scaler = StandardScaler()\n",
        "\n",
        "X_train_transformed = scaler.fit_transform(X_train)\n",
        "X_test_transformed = scaler.transform(X_test)\n"
      ],
      "execution_count": null,
      "outputs": []
    },
    {
      "cell_type": "markdown",
      "metadata": {
        "tags": [],
        "id": "QFM86aWS73mh"
      },
      "source": [
        "#### Using a range of neighbor values of 1-10, apply the KNearestNeighbor classifier to classify the the data."
      ]
    },
    {
      "cell_type": "code",
      "metadata": {
        "id": "2OoUUr3u73mh"
      },
      "source": [
        "from sklearn.neighbors import KNeighborsClassifier\n",
        "\n",
        "\n",
        "test_scores = []\n",
        "train_scores = []\n",
        "\n",
        "for i in range(1,10):\n",
        "\n",
        "    knn = KNeighborsClassifier(i)\n",
        "    knn.fit(X_train,y_train)\n",
        "    \n",
        "    train_scores.append(knn.score(X_train,y_train))\n",
        "    test_scores.append(knn.score(X_test,y_test))"
      ],
      "execution_count": null,
      "outputs": []
    },
    {
      "cell_type": "markdown",
      "metadata": {
        "tags": [],
        "id": "AVsWhAv573mi"
      },
      "source": [
        "**<font color='teal'> Print the train and test scores for each iteration.</font>**"
      ]
    },
    {
      "cell_type": "code",
      "metadata": {
        "colab": {
          "base_uri": "https://localhost:8080/"
        },
        "id": "xNU8Dsz0Hrm4",
        "outputId": "50c4a6c9-c2fd-4d59-f573-e0438ecdb08a"
      },
      "source": [
        "indexes = range(0, 9)\n",
        "for i in indexes:\n",
        "  print(f'n-neighbors: {i+1}\\ttrain_score: {train_scores[i]:2.2}\\ttest_score: {test_scores[i]:2.2}')"
      ],
      "execution_count": null,
      "outputs": [
        {
          "output_type": "stream",
          "text": [
            "n-neighbors: 1\ttrain_score: 1.0\ttest_score: 0.68\n",
            "n-neighbors: 2\ttrain_score: 0.85\ttest_score: 0.71\n",
            "n-neighbors: 3\ttrain_score: 0.84\ttest_score: 0.69\n",
            "n-neighbors: 4\ttrain_score: 0.82\ttest_score: 0.71\n",
            "n-neighbors: 5\ttrain_score: 0.82\ttest_score: 0.67\n",
            "n-neighbors: 6\ttrain_score: 0.82\ttest_score: 0.7\n",
            "n-neighbors: 7\ttrain_score: 0.81\ttest_score: 0.7\n",
            "n-neighbors: 8\ttrain_score: 0.8\ttest_score: 0.7\n",
            "n-neighbors: 9\ttrain_score: 0.8\ttest_score: 0.71\n"
          ],
          "name": "stdout"
        }
      ]
    },
    {
      "cell_type": "markdown",
      "metadata": {
        "tags": [],
        "id": "vY2vL0hE73mi"
      },
      "source": [
        "**<font color='teal'> Identify the number of neighbors that resulted in the max score in the training dataset. </font>**"
      ]
    },
    {
      "cell_type": "code",
      "metadata": {
        "id": "jiHOuj2A73mj",
        "colab": {
          "base_uri": "https://localhost:8080/"
        },
        "outputId": "4b8776db-07f4-45d5-c059-60717493dc2a"
      },
      "source": [
        "argmax_train_scores = max(indexes, key=lambda x: train_scores[x])\n",
        "print(f'Max test score when n-neighbors = {argmax_train_scores}')"
      ],
      "execution_count": null,
      "outputs": [
        {
          "output_type": "stream",
          "text": [
            "Max test score when n-neighbors = 0\n"
          ],
          "name": "stdout"
        }
      ]
    },
    {
      "cell_type": "markdown",
      "metadata": {
        "tags": [],
        "id": "eLcJpFkU73mj"
      },
      "source": [
        "**<font color='teal'> Identify the number of neighbors that resulted in the max score in the testing dataset. </font>**"
      ]
    },
    {
      "cell_type": "code",
      "metadata": {
        "id": "nPWsT3lG73mj",
        "colab": {
          "base_uri": "https://localhost:8080/"
        },
        "outputId": "c575cc11-ea63-42e4-b278-81e1dcd4be44"
      },
      "source": [
        "argmax_test_scores = max(indexes, key=lambda x: test_scores[x])\n",
        "print(f'Max test score when n-neighbors = {argmax_test_scores}')"
      ],
      "execution_count": null,
      "outputs": [
        {
          "output_type": "stream",
          "text": [
            "Max test score when n-neighbors = 3\n"
          ],
          "name": "stdout"
        }
      ]
    },
    {
      "cell_type": "markdown",
      "metadata": {
        "tags": [],
        "id": "uPL251SC73mj"
      },
      "source": [
        "Plot the train and test model performance by number of neighbors."
      ]
    },
    {
      "cell_type": "code",
      "metadata": {
        "id": "bO16riYF73mj",
        "colab": {
          "base_uri": "https://localhost:8080/",
          "height": 322
        },
        "outputId": "9246dab0-9b69-4a22-ea21-c7a31b3d80a6"
      },
      "source": [
        "plt.figure(figsize=(12,5))\n",
        "p = sns.lineplot(x=range(1,10), y=train_scores, marker='*', label='Train Score')\n",
        "p = sns.lineplot(x=range(1,10), y=test_scores, marker='o', label='Test Score')"
      ],
      "execution_count": null,
      "outputs": [
        {
          "output_type": "display_data",
          "data": {
            "image/png": "[encoded data removed]",
            "text/plain": [
              "<Figure size 864x360 with 1 Axes>"
            ]
          },
          "metadata": {
            "tags": []
          }
        }
      ]
    },
    {
      "cell_type": "markdown",
      "metadata": {
        "tags": [],
        "id": "daJgCyVF73mk"
      },
      "source": [
        "**<font color='teal'> Fit and score the best number of neighbors based on the plot. </font>**"
      ]
    },
    {
      "cell_type": "code",
      "metadata": {
        "id": "mD-k21Pb73mk",
        "colab": {
          "base_uri": "https://localhost:8080/"
        },
        "outputId": "2a1c6b62-8c09-4c98-8ac1-cd225a280f21"
      },
      "source": [
        "knn = KNeighborsClassifier(argmax_test_scores)\n",
        "knn.fit(X_train,y_train)\n",
        "\n",
        "print(f'train_score: {knn.score(X_train,y_train):2.2}')\n",
        "print(f'test_score: {knn.score(X_test,y_test):2.2}')"
      ],
      "execution_count": null,
      "outputs": [
        {
          "output_type": "stream",
          "text": [
            "train_score: 0.84\n",
            "test_score: 0.69\n"
          ],
          "name": "stdout"
        }
      ]
    },
    {
      "cell_type": "code",
      "metadata": {
        "id": "dXtAZ52073mk"
      },
      "source": [
        "from sklearn.metrics import confusion_matrix\n",
        "y_pred = knn.predict(X_test)\n",
        "pl = confusion_matrix(y_test,y_pred)"
      ],
      "execution_count": null,
      "outputs": []
    },
    {
      "cell_type": "code",
      "metadata": {
        "colab": {
          "base_uri": "https://localhost:8080/"
        },
        "id": "BPXU1EPHNf1W",
        "outputId": "c0763269-56c1-47c6-d922-749a4ee560dd"
      },
      "source": [
        "pl"
      ],
      "execution_count": null,
      "outputs": [
        {
          "output_type": "execute_result",
          "data": {
            "text/plain": [
              "array([[111,  40],\n",
              "       [ 31,  49]])"
            ]
          },
          "metadata": {
            "tags": []
          },
          "execution_count": 23
        }
      ]
    },
    {
      "cell_type": "markdown",
      "metadata": {
        "tags": [],
        "id": "cLwRubfa73ml"
      },
      "source": [
        "**<font color='teal'> Plot the confusion matrix for the model fit above. </font>**"
      ]
    },
    {
      "cell_type": "code",
      "metadata": {
        "id": "cYE1guCn73ml",
        "colab": {
          "base_uri": "https://localhost:8080/",
          "height": 285
        },
        "outputId": "22ec663a-20d7-4c74-9fef-7da88bbfeed9"
      },
      "source": [
        "from sklearn.metrics import plot_confusion_matrix\n",
        "\n",
        "plot_confusion_matrix(knn, X_test, y_test, cmap='Blues', normalize='true')\n",
        "plt.grid(False) # Fix distracting white grid lines."
      ],
      "execution_count": null,
      "outputs": [
        {
          "output_type": "display_data",
          "data": {
            "image/png": "[encoded data removed]",
            "text/plain": [
              "<Figure size 432x288 with 2 Axes>"
            ]
          },
          "metadata": {
            "tags": []
          }
        }
      ]
    },
    {
      "cell_type": "markdown",
      "metadata": {
        "tags": [],
        "id": "Ksixw1lC73ml"
      },
      "source": [
        "**<font color='teal'> Print the classification report </font>**"
      ]
    },
    {
      "cell_type": "code",
      "metadata": {
        "id": "KJ6Ycb6x73ml",
        "colab": {
          "base_uri": "https://localhost:8080/"
        },
        "outputId": "6f35001b-0f06-485a-9af0-fc1ebb720ebf"
      },
      "source": [
        "from sklearn.metrics import classification_report\n",
        "\n",
        "print(classification_report(y_test, y_pred))"
      ],
      "execution_count": null,
      "outputs": [
        {
          "output_type": "stream",
          "text": [
            "              precision    recall  f1-score   support\n",
            "\n",
            "           0       0.78      0.74      0.76       151\n",
            "           1       0.55      0.61      0.58        80\n",
            "\n",
            "    accuracy                           0.69       231\n",
            "   macro avg       0.67      0.67      0.67       231\n",
            "weighted avg       0.70      0.69      0.70       231\n",
            "\n"
          ],
          "name": "stdout"
        }
      ]
    },
    {
      "cell_type": "markdown",
      "metadata": {
        "tags": [],
        "id": "8fAFo33473ml"
      },
      "source": [
        "#### In the case of the K nearest neighbors algorithm, the K parameter is one of the most important parameters affecting the model performance.  The model performance isn't horrible, but what if we didn't consider a wide enough range of values in our neighbors for the KNN? An alternative to fitting a loop of models is to use a grid search to identify the proper number. It is common practice to use a grid search method for all adjustable parameters in any type of machine learning algorithm. First, you define the grid — aka the range of values — to test in the parameter being optimized, and then compare the model outcome performance based on the different values in the grid."
      ]
    },
    {
      "cell_type": "markdown",
      "metadata": {
        "tags": [],
        "id": "MyBEx-Tb73mm"
      },
      "source": [
        "#### Run the code in the next cell to see how to implement the grid search method for identifying the best parameter value for the n_neighbors parameter. Notice the param_grid is the range value to test and we apply cross validation with five folds to score each possible value of n_neighbors."
      ]
    },
    {
      "cell_type": "code",
      "metadata": {
        "id": "jn0XFiZf73mn",
        "colab": {
          "base_uri": "https://localhost:8080/"
        },
        "outputId": "91d2fbc7-c1b5-4052-c91d-6364e7aa05a6"
      },
      "source": [
        "from sklearn.model_selection import GridSearchCV\n",
        "param_grid = {'n_neighbors':np.arange(1,50)}\n",
        "knn = KNeighborsClassifier()\n",
        "knn_cv= GridSearchCV(knn,param_grid,cv=5)\n",
        "knn_cv.fit(X,y)"
      ],
      "execution_count": null,
      "outputs": [
        {
          "output_type": "execute_result",
          "data": {
            "text/plain": [
              "GridSearchCV(cv=5, estimator=KNeighborsClassifier(),\n",
              "             param_grid={'n_neighbors': array([ 1,  2,  3,  4,  5,  6,  7,  8,  9, 10, 11, 12, 13, 14, 15, 16, 17,\n",
              "       18, 19, 20, 21, 22, 23, 24, 25, 26, 27, 28, 29, 30, 31, 32, 33, 34,\n",
              "       35, 36, 37, 38, 39, 40, 41, 42, 43, 44, 45, 46, 47, 48, 49])})"
            ]
          },
          "metadata": {
            "tags": []
          },
          "execution_count": 46
        }
      ]
    },
    {
      "cell_type": "markdown",
      "metadata": {
        "tags": [],
        "id": "9aLYVdfQ73mn"
      },
      "source": [
        "#### Print the best score and best parameter for n_neighbors."
      ]
    },
    {
      "cell_type": "code",
      "metadata": {
        "id": "336HhCwP73mn",
        "colab": {
          "base_uri": "https://localhost:8080/"
        },
        "outputId": "fe2db520-4144-4b94-9b05-78da5b05390d"
      },
      "source": [
        "print(\"Best Score:\" + str(knn_cv.best_score_))\n",
        "print(\"Best Parameters: \" + str(knn_cv.best_params_))"
      ],
      "execution_count": null,
      "outputs": [
        {
          "output_type": "stream",
          "text": [
            "Best Score:0.7526440879382056\n",
            "Best Parameters: {'n_neighbors': 31}\n"
          ],
          "name": "stdout"
        }
      ]
    },
    {
      "cell_type": "markdown",
      "metadata": {
        "id": "hKndxs1V73mo"
      },
      "source": [
        "Here you can see that the ideal number of n_neighbors for this model is 14 based on the grid search performed. "
      ]
    },
    {
      "cell_type": "markdown",
      "metadata": {
        "tags": [],
        "id": "RlRL5hnI73mo"
      },
      "source": [
        "**<font color='teal'> Now, following the KNN example, apply this grid search method to find the optimal number of estimators in a Randon Forest model.\n",
        "</font>**"
      ]
    },
    {
      "cell_type": "code",
      "metadata": {
        "id": "KY3-RjyM73mo",
        "colab": {
          "base_uri": "https://localhost:8080/"
        },
        "outputId": "933436fb-5f2c-4550-aad2-2207f6fb7f17"
      },
      "source": [
        "from sklearn.ensemble import RandomForestClassifier\n",
        "\n",
        "param_grid = {'n_estimators':np.logspace(0.5, 3, num=30, dtype='int')}\n",
        "rf = RandomForestClassifier()\n",
        "rf_cv= GridSearchCV(rf,param_grid,cv=5)\n",
        "rf_cv.fit(X,y)"
      ],
      "execution_count": null,
      "outputs": [
        {
          "output_type": "execute_result",
          "data": {
            "text/plain": [
              "GridSearchCV(cv=5, estimator=RandomForestClassifier(),\n",
              "             param_grid={'n_estimators': array([   3,    3,    4,    5,    6,    8,   10,   12,   15,   18,   23,\n",
              "         28,   34,   41,   50,   62,   75,   92,  112,  137,  167,  204,\n",
              "        249,  303,  370,  452,  551,  672,  819, 1000])})"
            ]
          },
          "metadata": {
            "tags": []
          },
          "execution_count": 63
        }
      ]
    },
    {
      "cell_type": "code",
      "metadata": {
        "tags": [],
        "id": "QOOzXfTm73mp",
        "colab": {
          "base_uri": "https://localhost:8080/"
        },
        "outputId": "400ff96f-1b08-4196-9236-6ac2322690dc"
      },
      "source": [
        "print(f\"Best Score: {rf_cv.best_score_}\")\n",
        "print(f\"Best Parameters: {rf_cv.best_params_}\")"
      ],
      "execution_count": null,
      "outputs": [
        {
          "output_type": "stream",
          "text": [
            "Best Score: 0.7695951107715814\n",
            "Best Parameters: {'n_estimators': 41}\n"
          ],
          "name": "stdout"
        }
      ]
    },
    {
      "cell_type": "markdown",
      "metadata": {
        "id": "5iUWfX9QfHEa"
      },
      "source": [
        "The number of estimators that results in the best cv-score for the random forest model is n_estimators=41. "
      ]
    }
  ]
}